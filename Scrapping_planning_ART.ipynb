{
 "cells": [
  {
   "cell_type": "code",
   "execution_count": 33,
   "metadata": {},
   "outputs": [],
   "source": [
    "import os\n",
    "from selenium import webdriver #Webdriver de Selenium qui permet de contrôler un navigateur\n",
    "from selenium.webdriver.common.by import By #Permet d'accéder aux différents élements de la page web\n",
    "from selenium.webdriver.common.keys import Keys # Importe les clefs pour les touches du clavier\n",
    "from webdriver_manager.chrome import ChromeDriverManager #Assure la gestion du webdriver de Chrome\n",
    "from time import sleep \n",
    "import time\n",
    "import configparser"
   ]
  },
  {
   "cell_type": "code",
   "execution_count": null,
   "metadata": {},
   "outputs": [],
   "source": [
    "config = configparser.ConfigParser()\n",
    "config.read('cred.ini')\n"
   ]
  },
  {
   "cell_type": "code",
   "execution_count": null,
   "metadata": {},
   "outputs": [],
   "source": [
    "user_value = config.get('Credentials', 'user')\n",
    "password_value = config.get('Credentials', 'mdp')"
   ]
  },
  {
   "cell_type": "code",
   "execution_count": 49,
   "metadata": {},
   "outputs": [],
   "source": [
    "fichier = open('d.txt', 'r')\n",
    "mdp = fichier.read()"
   ]
  },
  {
   "cell_type": "code",
   "execution_count": 50,
   "metadata": {},
   "outputs": [
    {
     "name": "stderr",
     "output_type": "stream",
     "text": [
      "C:\\Users\\debor\\AppData\\Local\\Temp\\ipykernel_18448\\3423239722.py:1: DeprecationWarning: executable_path has been deprecated, please pass in a Service object\n",
      "  driver = webdriver.Chrome(ChromeDriverManager().install()) # Ouvrir une page Google Chrome\n"
     ]
    }
   ],
   "source": [
    "driver = webdriver.Chrome(ChromeDriverManager().install()) # Ouvrir une page Google Chrome\n"
   ]
  },
  {
   "cell_type": "code",
   "execution_count": 51,
   "metadata": {},
   "outputs": [],
   "source": [
    "def scroll(value): #Définition d'une fonction pour scroller automatiquement\n",
    "    for _ in range(20):\n",
    "        driver.execute_script(f\"window.scrollBy(0, {value})\")\n",
    "        time.sleep(0.1) #Temps entre chaque scroll"
   ]
  },
  {
   "cell_type": "code",
   "execution_count": 52,
   "metadata": {},
   "outputs": [],
   "source": [
    "driver.get('https://www.planning-imadis.fr/planning_gestion.php?d=1&t=1548025200') # Ouvrir l'adresse du site web\n",
    "try:\n",
    "    driver.find_element(By.ID, 'W0wltc').click()# accepter les cookies\n",
    "except:\n",
    "    None"
   ]
  },
  {
   "cell_type": "code",
   "execution_count": 53,
   "metadata": {},
   "outputs": [],
   "source": [
    "user=driver.find_element(By.ID, 'user_name')\n",
    "user.send_keys('d.mandon@imadis.fr')\n",
    "user.send_keys(Keys.ENTER)"
   ]
  },
  {
   "cell_type": "code",
   "execution_count": 54,
   "metadata": {},
   "outputs": [],
   "source": [
    "password=driver.find_element(By.ID, 'user_password')\n",
    "password.send_keys(mdp)\n",
    "password.send_keys(Keys.ENTER)"
   ]
  },
  {
   "cell_type": "code",
   "execution_count": 56,
   "metadata": {},
   "outputs": [
    {
     "ename": "ElementNotInteractableException",
     "evalue": "Message: element not interactable\n  (Session info: chrome=113.0.5672.127)\nStacktrace:\nBacktrace:\n\tGetHandleVerifier [0x00E68893+48451]\n\t(No symbol) [0x00DFB8A1]\n\t(No symbol) [0x00D04F20]\n\t(No symbol) [0x00D313A6]\n\t(No symbol) [0x00D29AAC]\n\t(No symbol) [0x00D4A2BC]\n\t(No symbol) [0x00D29586]\n\t(No symbol) [0x00D4A614]\n\t(No symbol) [0x00D5C482]\n\t(No symbol) [0x00D4A0B6]\n\t(No symbol) [0x00D27E08]\n\t(No symbol) [0x00D28F2D]\n\tGetHandleVerifier [0x010C8E3A+2540266]\n\tGetHandleVerifier [0x01108959+2801161]\n\tGetHandleVerifier [0x0110295C+2776588]\n\tGetHandleVerifier [0x00EF2280+612144]\n\t(No symbol) [0x00E04F6C]\n\t(No symbol) [0x00E011D8]\n\t(No symbol) [0x00E012BB]\n\t(No symbol) [0x00DF4857]\n\tBaseThreadInitThunk [0x76FC7D59+25]\n\tRtlInitializeExceptionChain [0x77B4B74B+107]\n\tRtlClearBits [0x77B4B6CF+191]\n",
     "output_type": "error",
     "traceback": [
      "\u001b[1;31m---------------------------------------------------------------------------\u001b[0m",
      "\u001b[1;31mElementNotInteractableException\u001b[0m           Traceback (most recent call last)",
      "Cell \u001b[1;32mIn[56], line 2\u001b[0m\n\u001b[0;32m      1\u001b[0m button\u001b[39m=\u001b[39mdriver\u001b[39m.\u001b[39mfind_element(By\u001b[39m.\u001b[39mXPATH, \u001b[39m\"\u001b[39m\u001b[39m//*[@id=\u001b[39m\u001b[39m'\u001b[39m\u001b[39mwrapper\u001b[39m\u001b[39m'\u001b[39m\u001b[39m]/nav/div/ul[1]/li/a\u001b[39m\u001b[39m\"\u001b[39m)\n\u001b[1;32m----> 2\u001b[0m button\u001b[39m.\u001b[39;49mclick()\n",
      "File \u001b[1;32mc:\\Users\\debor\\anaconda3\\lib\\site-packages\\selenium\\webdriver\\remote\\webelement.py:94\u001b[0m, in \u001b[0;36mWebElement.click\u001b[1;34m(self)\u001b[0m\n\u001b[0;32m     92\u001b[0m \u001b[39mdef\u001b[39;00m \u001b[39mclick\u001b[39m(\u001b[39mself\u001b[39m) \u001b[39m-\u001b[39m\u001b[39m>\u001b[39m \u001b[39mNone\u001b[39;00m:\n\u001b[0;32m     93\u001b[0m \u001b[39m    \u001b[39m\u001b[39m\"\"\"Clicks the element.\"\"\"\u001b[39;00m\n\u001b[1;32m---> 94\u001b[0m     \u001b[39mself\u001b[39;49m\u001b[39m.\u001b[39;49m_execute(Command\u001b[39m.\u001b[39;49mCLICK_ELEMENT)\n",
      "File \u001b[1;32mc:\\Users\\debor\\anaconda3\\lib\\site-packages\\selenium\\webdriver\\remote\\webelement.py:404\u001b[0m, in \u001b[0;36mWebElement._execute\u001b[1;34m(self, command, params)\u001b[0m\n\u001b[0;32m    402\u001b[0m     params \u001b[39m=\u001b[39m {}\n\u001b[0;32m    403\u001b[0m params[\u001b[39m\"\u001b[39m\u001b[39mid\u001b[39m\u001b[39m\"\u001b[39m] \u001b[39m=\u001b[39m \u001b[39mself\u001b[39m\u001b[39m.\u001b[39m_id\n\u001b[1;32m--> 404\u001b[0m \u001b[39mreturn\u001b[39;00m \u001b[39mself\u001b[39;49m\u001b[39m.\u001b[39;49m_parent\u001b[39m.\u001b[39;49mexecute(command, params)\n",
      "File \u001b[1;32mc:\\Users\\debor\\anaconda3\\lib\\site-packages\\selenium\\webdriver\\remote\\webdriver.py:440\u001b[0m, in \u001b[0;36mWebDriver.execute\u001b[1;34m(self, driver_command, params)\u001b[0m\n\u001b[0;32m    438\u001b[0m response \u001b[39m=\u001b[39m \u001b[39mself\u001b[39m\u001b[39m.\u001b[39mcommand_executor\u001b[39m.\u001b[39mexecute(driver_command, params)\n\u001b[0;32m    439\u001b[0m \u001b[39mif\u001b[39;00m response:\n\u001b[1;32m--> 440\u001b[0m     \u001b[39mself\u001b[39;49m\u001b[39m.\u001b[39;49merror_handler\u001b[39m.\u001b[39;49mcheck_response(response)\n\u001b[0;32m    441\u001b[0m     response[\u001b[39m\"\u001b[39m\u001b[39mvalue\u001b[39m\u001b[39m\"\u001b[39m] \u001b[39m=\u001b[39m \u001b[39mself\u001b[39m\u001b[39m.\u001b[39m_unwrap_value(response\u001b[39m.\u001b[39mget(\u001b[39m\"\u001b[39m\u001b[39mvalue\u001b[39m\u001b[39m\"\u001b[39m, \u001b[39mNone\u001b[39;00m))\n\u001b[0;32m    442\u001b[0m     \u001b[39mreturn\u001b[39;00m response\n",
      "File \u001b[1;32mc:\\Users\\debor\\anaconda3\\lib\\site-packages\\selenium\\webdriver\\remote\\errorhandler.py:245\u001b[0m, in \u001b[0;36mErrorHandler.check_response\u001b[1;34m(self, response)\u001b[0m\n\u001b[0;32m    243\u001b[0m         alert_text \u001b[39m=\u001b[39m value[\u001b[39m\"\u001b[39m\u001b[39malert\u001b[39m\u001b[39m\"\u001b[39m]\u001b[39m.\u001b[39mget(\u001b[39m\"\u001b[39m\u001b[39mtext\u001b[39m\u001b[39m\"\u001b[39m)\n\u001b[0;32m    244\u001b[0m     \u001b[39mraise\u001b[39;00m exception_class(message, screen, stacktrace, alert_text)  \u001b[39m# type: ignore[call-arg]  # mypy is not smart enough here\u001b[39;00m\n\u001b[1;32m--> 245\u001b[0m \u001b[39mraise\u001b[39;00m exception_class(message, screen, stacktrace)\n",
      "\u001b[1;31mElementNotInteractableException\u001b[0m: Message: element not interactable\n  (Session info: chrome=113.0.5672.127)\nStacktrace:\nBacktrace:\n\tGetHandleVerifier [0x00E68893+48451]\n\t(No symbol) [0x00DFB8A1]\n\t(No symbol) [0x00D04F20]\n\t(No symbol) [0x00D313A6]\n\t(No symbol) [0x00D29AAC]\n\t(No symbol) [0x00D4A2BC]\n\t(No symbol) [0x00D29586]\n\t(No symbol) [0x00D4A614]\n\t(No symbol) [0x00D5C482]\n\t(No symbol) [0x00D4A0B6]\n\t(No symbol) [0x00D27E08]\n\t(No symbol) [0x00D28F2D]\n\tGetHandleVerifier [0x010C8E3A+2540266]\n\tGetHandleVerifier [0x01108959+2801161]\n\tGetHandleVerifier [0x0110295C+2776588]\n\tGetHandleVerifier [0x00EF2280+612144]\n\t(No symbol) [0x00E04F6C]\n\t(No symbol) [0x00E011D8]\n\t(No symbol) [0x00E012BB]\n\t(No symbol) [0x00DF4857]\n\tBaseThreadInitThunk [0x76FC7D59+25]\n\tRtlInitializeExceptionChain [0x77B4B74B+107]\n\tRtlClearBits [0x77B4B6CF+191]\n"
     ]
    }
   ],
   "source": [
    "try:\n",
    "    button=driver.find_element(By.XPATH, \"//*[@id='wrapper']/nav/div/ul[1]/li/a\")\n",
    "    button.click()\n",
    "except:\n",
    "    None"
   ]
  },
  {
   "cell_type": "code",
   "execution_count": 57,
   "metadata": {},
   "outputs": [],
   "source": [
    "admin=driver.find_element(By.XPATH, \"//*[@id='side-menu']/li[7]/a\")\n",
    "admin.click()"
   ]
  },
  {
   "cell_type": "code",
   "execution_count": 58,
   "metadata": {},
   "outputs": [],
   "source": [
    "tdg=driver.find_element(By.XPATH, \"//*[@id='side-menu']/li[7]/ul/li[3]/a\")\n",
    "tdg.click()"
   ]
  },
  {
   "cell_type": "code",
   "execution_count": 59,
   "metadata": {},
   "outputs": [],
   "source": [
    "scroll(100)"
   ]
  },
  {
   "cell_type": "code",
   "execution_count": 47,
   "metadata": {},
   "outputs": [],
   "source": [
    "#pour telecharger excel ART des 2 derniers TDG\n",
    "\n",
    "case=[3,4]\n",
    "for i in range(len(case)):\n",
    "    excel=driver.find_element(By.CSS_SELECTOR, '#top > div > table > tbody > tr:nth-child('+ str(case[i]) +') > td:nth-child(7) > button.excel.btn.btn-default.btn-outline.btn-sm')\n",
    "    excel.click()\n",
    "    time.sleep(1) \n",
    "    art=driver.find_element(By.XPATH, \"//*[@id='excelDpt6']\")\n",
    "    art.click()\n",
    "    time.sleep(1) \n",
    "    generate=driver.find_element(By.ID, \"generate\")\n",
    "    generate.click()\n",
    "    time.sleep(1) \n",
    "    close=driver.find_element(By.XPATH, \"//*[@id='excel']/div/div/div[3]/button[1]\")\n",
    "    close.click()\n",
    "    time.sleep(1) "
   ]
  },
  {
   "cell_type": "code",
   "execution_count": 63,
   "metadata": {},
   "outputs": [],
   "source": [
    "driver.close()"
   ]
  }
 ],
 "metadata": {
  "kernelspec": {
   "display_name": "base",
   "language": "python",
   "name": "python3"
  },
  "language_info": {
   "codemirror_mode": {
    "name": "ipython",
    "version": 3
   },
   "file_extension": ".py",
   "mimetype": "text/x-python",
   "name": "python",
   "nbconvert_exporter": "python",
   "pygments_lexer": "ipython3",
   "version": "3.9.16"
  },
  "orig_nbformat": 4
 },
 "nbformat": 4,
 "nbformat_minor": 2
}
